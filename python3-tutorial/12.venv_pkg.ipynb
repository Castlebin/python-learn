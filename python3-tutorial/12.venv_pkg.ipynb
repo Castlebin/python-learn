{
 "cells": [
  {
   "cell_type": "markdown",
   "metadata": {
    "collapsed": true
   },
   "source": [
    "# 12. 虚拟环境和包"
   ]
  },
  {
   "cell_type": "markdown",
   "metadata": {},
   "source": [
    "## 12.1. 简介\n",
    "Python 应用程序经常会使用一些不属于标准库的包和模块。应用程序有时候需要某个特定版本的库，因为它需要一个特定的 bug 已得到修复的库或者它是使用了一个过时版本的库的接口编写的。\n",
    "\n",
    "这就意味着可能无法安装一个 Python 来满足每个应用程序的要求。如果应用程序 A 需要一个特定模块的 1.0 版本但是应用程序 B 需要该模块的 2.0 版本，这两个应用程序的要求是冲突的，安装版本 1.0 或者版本 2.0 将会导致其中一个应用程序不能运行。\n",
    "\n",
    "这个问题的解决方案就是创建一个 虚拟环境 （通常简称为 “virtualenv”），包含一个特定版本的 Python，以及一些附加的包的独立的目录树。\n",
    "\n",
    "不同的应用程序可以使用不同的虚拟环境。为了解决前面例子中的冲突，应用程序 A 可以有自己的虚拟环境，其中安装了特定模块的 1.0 版本。而应用程序 B 拥有另外一个安装了特定模块 2.0 版本的虚拟环境。如果应用程序 B 需求一个库升级到 3.0 的话，这也不会影响到应用程序 A 的环境。"
   ]
  },
  {
   "cell_type": "markdown",
   "metadata": {},
   "source": [
    "## 12.2. 创建虚拟环境"
   ]
  },
  {
   "cell_type": "markdown",
   "metadata": {},
   "source": [
    "   pyvenv命令已经废弃，可以使用 python -m venv {env-name} 代替，\n",
    "     \n",
    "   eg：python -m venv tutorial-env 将创建一个名字为tutorial-env的虚拟环境\n",
    "   \n",
    "   执行命令，安装的是Anaconda3的话可能会报错缺少python.exe\\pythonw.exe，在相应的目录下创建两个对应的文件链接即可。"
   ]
  },
  {
   "cell_type": "markdown",
   "metadata": {},
   "source": [
    "用于创建和管理虚拟环境的脚本叫做 pyvenv。pyvenv 通常会安装你可用的 Python 中最新的版本。这个脚本也能指定安装一个特定的版本的 Python，因此如果在你的系统中有多个版本的 Python 的话，你可以运行 pyvenv-3.5 或者你想要的任何版本来选择一个指定的 Python 版本。\n",
    "\n",
    "要创建一个 virtualenv，首先决定一个你想要存放的目录接着运行 pyvenv 后面携带着目录名:\n",
    "        pyvenv tutorial-env"
   ]
  },
  {
   "cell_type": "markdown",
   "metadata": {},
   "source": [
    "如果目录不存在的话，这将会创建一个 tutorial-env 目录，并且也在目录里面创建一个包含 Python 解释器，标准库，以及各种配套文件的 Python “副本”。\n",
    "\n",
    "一旦你已经创建了一个虚拟环境，你必须激活它。\n",
    "\n",
    "在 Windows 上，运行:\n",
    "\n",
    "        tutorial-env/Scripts/activate\n",
    "在 Unix 或者 MacOS 上，运行:\n",
    "\n",
    "        source tutorial-env/bin/activate\n",
    "（这个脚本是用 bash shell 编写的。如果你使用 csh 或者 fish shell，你应该使用 activate.csh 和 activate.fish 来替代。）\n",
    "\n",
    "激活了虚拟环境会改变你的 shell 提示符，显示你正在使用的虚拟环境，并且修改了环境以致运行 python 将会让你得到了特定的 Python 版本"
   ]
  },
  {
   "cell_type": "markdown",
   "metadata": {},
   "source": [
    "## 12.3. 使用 pip 管理包"
   ]
  },
  {
   "cell_type": "code",
   "execution_count": null,
   "metadata": {},
   "outputs": [],
   "source": []
  }
 ],
 "metadata": {
  "kernelspec": {
   "display_name": "Python 3",
   "language": "python",
   "name": "python3"
  },
  "language_info": {
   "codemirror_mode": {
    "name": "ipython",
    "version": 3
   },
   "file_extension": ".py",
   "mimetype": "text/x-python",
   "name": "python",
   "nbconvert_exporter": "python",
   "pygments_lexer": "ipython3",
   "version": "3.7.3"
  }
 },
 "nbformat": 4,
 "nbformat_minor": 1
}
