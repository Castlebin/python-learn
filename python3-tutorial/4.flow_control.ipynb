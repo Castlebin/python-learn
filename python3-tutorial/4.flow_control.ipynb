{
 "cells": [
  {
   "cell_type": "markdown",
   "metadata": {
    "collapsed": true
   },
   "source": [
    "# 4. 深入 Python 流程控制"
   ]
  },
  {
   "cell_type": "markdown",
   "metadata": {},
   "source": [
    "## 4.1 if语句"
   ]
  },
  {
   "cell_type": "markdown",
   "metadata": {},
   "source": [
    "## 4.3 rang()函数"
   ]
  },
  {
   "cell_type": "markdown",
   "metadata": {},
   "source": [
    "## 4.4 循环中的else语句"
   ]
  },
  {
   "cell_type": "markdown",
   "metadata": {},
   "source": [
    "循环可以有一个 else 子句；它在循环迭代完整个列表（对于 for ）或执行条件为 false （对于 while ）时执行，但循环被 break 中止的情况下不会执行。\n",
    "\n",
    "快速记忆：\n",
    "1. 在循环正常终止时执行，如果循环被break终止则不执行\n",
    "2. 循环的else子句（只要循环没有经过break，那么在循环语句完毕后，会执行循环的else子句（没进入过循环也算，同样会执行else））"
   ]
  },
  {
   "cell_type": "code",
   "execution_count": 13,
   "metadata": {},
   "outputs": [
    {
     "name": "stdout",
     "output_type": "stream",
     "text": [
      "2 is a prime number.\n",
      "3 is a prime number.\n",
      "4 equals 2  *  2\n",
      "5 is a prime number.\n",
      "6 equals 2  *  3\n",
      "7 is a prime number.\n",
      "8 equals 2  *  4\n",
      "9 equals 3  *  3\n"
     ]
    }
   ],
   "source": [
    "for n in range(2, 10):\n",
    "    for x in range(2, n):\n",
    "        if n % x == 0:\n",
    "            print(n, 'equals', x, ' * ', n//x)\n",
    "            break\n",
    "    else:   # 注意，这里else是for的子句，而不是if的\n",
    "        print(n, 'is a prime number.')"
   ]
  },
  {
   "cell_type": "markdown",
   "metadata": {},
   "source": [
    "对比一下，用Java的写法\n",
    "        for (int n = 2; n < 10; n++) {\n",
    "            int i = 2;\n",
    "            for (; i < n; i++) {\n",
    "                if (n % i == 0) {\n",
    "                    System.out.println(n + \" equals \" + i + \" * \" + (n / i));\n",
    "                    break;\n",
    "                }\n",
    "            }\n",
    "            if (i == n) {\n",
    "                System.out.println(n + \" is a prime number\");\n",
    "            }\n",
    "        }"
   ]
  },
  {
   "cell_type": "markdown",
   "metadata": {},
   "source": [
    "以Java的风格，用python同样可以："
   ]
  },
  {
   "cell_type": "code",
   "execution_count": 16,
   "metadata": {},
   "outputs": [
    {
     "name": "stdout",
     "output_type": "stream",
     "text": [
      "3 is a prime number.\n",
      "4 equals 2  *  2\n",
      "4 is a prime number.\n",
      "5 is a prime number.\n",
      "6 equals 2  *  3\n",
      "6 is a prime number.\n",
      "7 is a prime number.\n",
      "8 equals 2  *  4\n",
      "8 is a prime number.\n",
      "9 equals 3  *  3\n"
     ]
    }
   ],
   "source": [
    "for n in range(2, 10):\n",
    "    for x in range(2, n):\n",
    "        if n % x == 0:\n",
    "            print(n, 'equals', x, ' * ', n//x)\n",
    "            break\n",
    "\n",
    "    if x == n - 1 or x == 2:    # 注意条件的细微差别（原因在于range()和Java中的for迭代还是不同的）\n",
    "        print(n, 'is a prime number.')\n"
   ]
  },
  {
   "cell_type": "markdown",
   "metadata": {},
   "source": [
    "同样的，Python的try语句也可以拥有else子句，到“异常处理”部分再学习"
   ]
  },
  {
   "cell_type": "markdown",
   "metadata": {},
   "source": [
    "# 4.7 深入函数定义"
   ]
  },
  {
   "cell_type": "markdown",
   "metadata": {},
   "source": [
    "除了以最普通的方式定义函数参数之外，另外函数参数还有3种可能的形式：\n",
    "。。。\n",
    "\n",
    "# 这一节讲解得不清楚，还是参见廖雪峰的教程吧"
   ]
  },
  {
   "cell_type": "code",
   "execution_count": null,
   "metadata": {},
   "outputs": [],
   "source": []
  }
 ],
 "metadata": {
  "kernelspec": {
   "display_name": "Python 3",
   "language": "python",
   "name": "python3"
  },
  "language_info": {
   "codemirror_mode": {
    "name": "ipython",
    "version": 3
   },
   "file_extension": ".py",
   "mimetype": "text/x-python",
   "name": "python",
   "nbconvert_exporter": "python",
   "pygments_lexer": "ipython3",
   "version": "3.7.3"
  }
 },
 "nbformat": 4,
 "nbformat_minor": 1
}
